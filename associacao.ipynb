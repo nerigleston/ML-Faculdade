{
 "cells": [
  {
   "cell_type": "code",
   "execution_count": 1,
   "metadata": {},
   "outputs": [
    {
     "name": "stdout",
     "output_type": "stream",
     "text": [
      "  antecedents consequents  antecedent support  consequent support  support  \\\n",
      "0   (Class_0)  (Amount_1)               0.999               0.992    0.991   \n",
      "1  (Amount_1)   (Class_0)               0.992               0.999    0.991   \n",
      "\n",
      "   confidence      lift  leverage  conviction  zhangs_metric  \n",
      "0    0.991992  0.999992 -0.000008       0.999      -0.008008  \n",
      "1    0.998992  0.999992 -0.000008       0.992      -0.001008  \n"
     ]
    }
   ],
   "source": [
    "import pandas as pd\n",
    "from mlxtend.frequent_patterns import apriori, association_rules\n",
    "\n",
    "# Carregar os dados\n",
    "df = pd.read_csv('creditcard.csv')\n",
    "\n",
    "# Pré-processamento dos dados\n",
    "# Vamos considerar apenas as transações com valores positivos e negativos\n",
    "# (ou seja, vamos considerar apenas as transações que foram feitas e não as que foram rejeitadas)\n",
    "# e vamos transformar o valor da coluna\n",
    "# 'Amount' em binário (1 para valores positivos e 0 para valores negativos).\n",
    "df['Amount'] = df['Amount'].apply(lambda x: 1 if x > 0 else 0)\n",
    "\n",
    "# Vamos usar apenas uma pequena amostra de dados para simplificação, uma vez que o conjunto de dados é grande.\n",
    "df_sample = df.sample(n=1000)\n",
    "\n",
    "# Transformar os dados em binários\n",
    "# Supondo que você queira considerar apenas algumas colunas para a análise de associação:\n",
    "columns_of_interest = ['Amount', 'Class']\n",
    "df_bin = df_sample[columns_of_interest]\n",
    "\n",
    "# Transformar as colunas de interesse em dummies (se necessário)\n",
    "df_bin = pd.get_dummies(df_bin, columns=columns_of_interest)\n",
    "\n",
    "# Aplicar o algoritmo Apriori\n",
    "frequent_itemsets = apriori(df_bin, min_support=0.1, use_colnames=True)\n",
    "\n",
    "# Gerar as regras de associação\n",
    "rules = association_rules(frequent_itemsets\n",
    "                            , metric='confidence'\n",
    "                            , min_threshold=0.7)\n",
    "\n",
    "# Exibir as regras de associação\n",
    "print(rules)"
   ]
  },
  {
   "cell_type": "markdown",
   "metadata": {},
   "source": [
    "Esse código utiliza o algoritmo Apriori para encontrar padrões de associação em um conjunto de dados de transações de cartão de crédito. Ele pré-processa os dados, transformando a coluna 'Amount' em binário (1 para valores positivos e 0 para valores negativos), seleciona uma amostra dos dados, e transforma as colunas de interesse em variáveis binárias. Em seguida, aplica o algoritmo Apriori para identificar conjuntos frequentes de itens e gera regras de associação com uma confiança mínima de 70%. As regras de associação identificadas são então exibidas. Essa análise pode ajudar a descobrir padrões de comportamento ou transações frequentes, úteis para detectar possíveis fraudes ou entender o comportamento dos clientes."
   ]
  },
  {
   "cell_type": "markdown",
   "metadata": {},
   "source": [
    "As regras de associação geradas indicam uma forte ligação entre dois aspectos das transações de cartão de crédito: a classe da transação e o valor da transação. Em particular, as regras mostram que transações rotuladas como comuns ('Class_0') têm uma alta probabilidade de estarem associadas a valores positivos ('Amount_1'). Isso sugere que transações típicas e não fraudulosas tendem a ter valores positivos. Essa associação é consistente com o comportamento esperado em transações regulares. Em resumo, os resultados destacam a relação entre a natureza da transação e o valor envolvido, oferecendo insights valiosos para a compreensão dos padrões de gastos e o potencial de identificação de transações fraudulentas."
   ]
  }
 ],
 "metadata": {
  "kernelspec": {
   "display_name": ".venv",
   "language": "python",
   "name": "python3"
  },
  "language_info": {
   "codemirror_mode": {
    "name": "ipython",
    "version": 3
   },
   "file_extension": ".py",
   "mimetype": "text/x-python",
   "name": "python",
   "nbconvert_exporter": "python",
   "pygments_lexer": "ipython3",
   "version": "3.10.12"
  }
 },
 "nbformat": 4,
 "nbformat_minor": 2
}
