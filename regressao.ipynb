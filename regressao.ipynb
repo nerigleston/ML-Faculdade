{
 "cells": [
  {
   "cell_type": "code",
   "execution_count": 2,
   "metadata": {},
   "outputs": [
    {
     "name": "stdout",
     "output_type": "stream",
     "text": [
      "MSE: 4332.337602906515\n"
     ]
    }
   ],
   "source": [
    "# Importar as bibliotecas necessárias\n",
    "import pandas as pd\n",
    "from sklearn.model_selection import train_test_split\n",
    "from sklearn.linear_model import LinearRegression\n",
    "from sklearn.metrics import mean_squared_error\n",
    "\n",
    "# Carregar os dados\n",
    "df = pd.read_csv('creditcard.csv')\n",
    "\n",
    "# Pré-processar os dados\n",
    "df['Class'] = df['Class'].astype('category')\n",
    "\n",
    "# Dividir os dados em conjuntos de treinamento e teste\n",
    "X = df.drop('Amount', axis=1)\n",
    "y = df['Amount']\n",
    "X_train, X_test, y_train, y_test = train_test_split(X, y, test_size=0.2, random_state=42)\n",
    "\n",
    "# Treinar o modelo\n",
    "model = LinearRegression()\n",
    "model.fit(X_train, y_train)\n",
    "\n",
    "# Avaliar o modelo\n",
    "y_pred = model.predict(X_test)\n",
    "mse = mean_squared_error(y_test, y_pred)\n",
    "print(f'MSE: {mse}')"
   ]
  },
  {
   "cell_type": "markdown",
   "metadata": {},
   "source": [
    "O Erro Quadrático Médio (MSE) é uma métrica amplamente utilizada para avaliar a performance de modelos de regressão. Ele calcula a média dos quadrados dos erros entre as previsões do modelo e os valores reais do conjunto de dados de teste. Em outras palavras, o MSE quantifica a qualidade das previsões, medindo o quão distantes estão os pontos previstos do modelo em relação aos pontos reais. Um valor de MSE mais baixo indica uma melhor adequação do modelo aos dados, pois implica em menores discrepâncias entre as previsões e os valores reais. No caso do resultado apresentado, um MSE de 4332.34 sugere que, em média, os quadrados dos erros das previsões estão em torno de 4332.34 unidades ao quadrado, indicando uma certa distância entre as previsões do modelo e os valores reais."
   ]
  }
 ],
 "metadata": {
  "kernelspec": {
   "display_name": ".venv",
   "language": "python",
   "name": "python3"
  },
  "language_info": {
   "codemirror_mode": {
    "name": "ipython",
    "version": 3
   },
   "file_extension": ".py",
   "mimetype": "text/x-python",
   "name": "python",
   "nbconvert_exporter": "python",
   "pygments_lexer": "ipython3",
   "version": "3.10.12"
  }
 },
 "nbformat": 4,
 "nbformat_minor": 2
}
